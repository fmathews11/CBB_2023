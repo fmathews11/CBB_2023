{
 "cells": [
  {
   "cell_type": "code",
   "execution_count": 1,
   "metadata": {},
   "outputs": [],
   "source": [
    "import pandas as pd\n",
    "from sportsreference.ncaab.boxscore2 import Boxscore\n",
    "from sportsreference.ncaab.teams import Team\n",
    "import requests\n",
    "from bs4 import BeautifulSoup\n",
    "import pickle\n",
    "from time import sleep\n",
    "import numpy as np\n",
    "pd.options.display.max_columns = None"
   ]
  },
  {
   "cell_type": "code",
   "execution_count": 2,
   "metadata": {},
   "outputs": [],
   "source": [
    "def get_boxscore_links() -> set:\n",
    "\n",
    "    url = \"https://www.sports-reference.com/cbb/schools/purdue/2023-schedule.html\"\n",
    "    r = requests.get(url)\n",
    "    if r.status_code != 200:\n",
    "        raise Exception(\"Website is not cooperating\")\n",
    "    \n",
    "    soup = BeautifulSoup(r.content)\n",
    "    # Finding the table we need\n",
    "    games = soup.findAll('table')[1]\n",
    "    # Extracting strings which contain the sub-string \"boxscore\"\n",
    "    raw_boxscore_links = [block for block in str(games.findAll('a',href = True)).split(\"</a>\") if \"boxscores\" in block]\n",
    "\n",
    "    output_set = set()\n",
    "\n",
    "    for boxscore_link in raw_boxscore_links:\n",
    "\n",
    "        # Extracting the particular text I want and adding it to the set\n",
    "        split_string = boxscore_link.split(\"boxscores/\")\n",
    "        output_set.add(split_string[1].split('\"')[0].replace('.html',\"\"))\n",
    "\n",
    "    return output_set\n",
    "\n",
    "purdue_player_ids = ['fletcher-loyer-1',\n",
    "                    'braden-smith-1',\n",
    "                    'zach-edey-1',\n",
    "                    'ethan-morton-1',\n",
    "                    'mason-gillis-1',\n",
    "                    'brandon-newman-2',\n",
    "                    'caleb-furst-1',\n",
    "                    'trey-kaufman-renn-1',\n",
    "                    'david-jenkinsjr-1',\n",
    "                    'brian-waddell-1',\n",
    "                    'carson-barrett-1',\n",
    "                    'sam-king-2',\n",
    "                    'will-berg-1',\n",
    "                    'chase-martin-1',\n",
    "                    'matt-frost-1',\n",
    "                    'camden-heide-1']"
   ]
  },
  {
   "cell_type": "code",
   "execution_count": 3,
   "metadata": {},
   "outputs": [],
   "source": [
    "boxscore_links = get_boxscore_links()\n",
    "with open('pickle_files/boxscore_links.pickle','wb') as f:\n",
    "    pickle.dump(boxscore_links,f)"
   ]
  },
  {
   "cell_type": "code",
   "execution_count": 61,
   "metadata": {},
   "outputs": [
    {
     "name": "stdout",
     "output_type": "stream",
     "text": [
      "2022-12-10-14-nebraska\n",
      "2022-12-07-19-purdue\n",
      "2022-12-04-18-purdue\n"
     ]
    }
   ],
   "source": [
    "master_df = pd.read_csv('csvs/all_game_boxscores.csv')\n",
    "for idx,boxscore_link in enumerate(boxscore_links):\n",
    "\n",
    "    if boxscore_link in master_df.boxscore_link.tolist():\n",
    "        continue\n",
    "\n",
    "    print(boxscore_link)\n",
    "    boxscore_object = Boxscore(boxscore_link)\n",
    "    temp_df = boxscore_object.dataframe.copy()\n",
    "    temp_df = temp_df.rename_axis('boxscore_link').reset_index()\n",
    "    master_df = pd.concat([master_df,temp_df])\n",
    "\n",
    "    if idx < len(boxscore_links) - 1:\n",
    "\n",
    "        random_integer = np.random.randint(120,300)\n",
    "        sleep(random_integer)\n",
    "\n",
    "    master_df.to_csv('csvs/all_game_boxscores.csv',index = False)"
   ]
  },
  {
   "cell_type": "code",
   "execution_count": 29,
   "metadata": {},
   "outputs": [
    {
     "name": "stdout",
     "output_type": "stream",
     "text": [
      "2022-12-10-14-nebraska\n",
      "2022-11-24-purdue\n",
      "2022-11-11-purdue\n",
      "2022-11-25-23-gonzaga\n",
      "2022-11-27-15-purdue\n",
      "2022-11-08-purdue\n",
      "2022-11-15-purdue\n",
      "2022-12-04-18-purdue\n",
      "2022-11-30-00-florida-state\n",
      "2022-12-07-19-purdue\n"
     ]
    }
   ],
   "source": [
    "player_boxscore_dataframe = pd.read_csv('csvs/player_boxscore_dataframe.csv')\n",
    "for idx,boxscore_link in enumerate(boxscore_links):\n",
    "\n",
    "    if boxscore_link in player_boxscore_dataframe.game_id.unique().tolist():\n",
    "        continue\n",
    "\n",
    "    print(boxscore_link)\n",
    "    boxscore_object = Boxscore(boxscore_link)\n",
    "\n",
    "    #Get date\n",
    "    game_date = \"-\".join(boxscore_link.split('-')[0:3])\n",
    "\n",
    "    for player in boxscore_object.home_players:\n",
    "\n",
    "        temp_df = player.dataframe.rename_axis('player_id').reset_index().copy()\n",
    "        temp_df['purdue_player'] = 1 if player.player_id in purdue_player_ids else 0\n",
    "        temp_df['game_id'] = boxscore_link\n",
    "        temp_df['game_date'] = game_date\n",
    "        player_boxscore_dataframe = pd.concat([player_boxscore_dataframe,temp_df])\n",
    "    \n",
    "    for player in boxscore_object.away_players:\n",
    "\n",
    "        temp_df = player.dataframe.rename_axis('player_id').reset_index().copy()\n",
    "        temp_df['game_id'] = boxscore_link\n",
    "        temp_df['purdue_player'] = 1 if player.player_id in purdue_player_ids else 0\n",
    "        temp_df['game_date'] = game_date\n",
    "        player_boxscore_dataframe = pd.concat([player_boxscore_dataframe,temp_df])\n",
    "    \n",
    "    if 'ethan-morton-1' not in player_boxscore_dataframe[player_boxscore_dataframe.game_id == boxscore_link].player_id.tolist():\n",
    "        print(f\"Morton missing from {boxscore_link}\")\n",
    "    \n",
    "    sleep(np.random.randint(45,90))\n",
    "player_boxscore_dataframe.game_date = pd.to_datetime(player_boxscore_dataframe.game_date)\n",
    "player_boxscore_dataframe.sort_values('game_date').to_csv('csvs/player_boxscore_dataframe.csv',index = False)"
   ]
  },
  {
   "cell_type": "code",
   "execution_count": null,
   "metadata": {},
   "outputs": [],
   "source": []
  }
 ],
 "metadata": {
  "kernelspec": {
   "display_name": "Python 3.9.13 ('sports')",
   "language": "python",
   "name": "python3"
  },
  "language_info": {
   "codemirror_mode": {
    "name": "ipython",
    "version": 3
   },
   "file_extension": ".py",
   "mimetype": "text/x-python",
   "name": "python",
   "nbconvert_exporter": "python",
   "pygments_lexer": "ipython3",
   "version": "3.9.13"
  },
  "orig_nbformat": 4,
  "vscode": {
   "interpreter": {
    "hash": "ae0dda884c70e1560e93956e8eebd4c83c1ef9439f019fa77ba6b5d019159887"
   }
  }
 },
 "nbformat": 4,
 "nbformat_minor": 2
}
