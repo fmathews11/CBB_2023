{
 "cells": [
  {
   "cell_type": "code",
   "execution_count": null,
   "metadata": {},
   "outputs": [
    {
     "data": {
      "text/plain": [
       "400918880"
      ]
     },
     "execution_count": 2,
     "metadata": {},
     "output_type": "execute_result"
    }
   ],
   "source": [
    "import pandas as pd\n",
    "import numpy as np\n",
    "import matplotlib.pyplot as plt\n",
    "import seaborn as sns\n",
    "from tqdm import tqdm\n",
    "pd.options.display.max_columns = None\n",
    "\n",
    "df = pd.read_parquet('csvs/master_dataframe.gzip')\n",
    "df.game_id.sample().item()"
   ]
  },
  {
   "cell_type": "code",
   "execution_count": 3,
   "metadata": {},
   "outputs": [
    {
     "data": {
      "text/plain": [
       "47701"
      ]
     },
     "execution_count": 3,
     "metadata": {},
     "output_type": "execute_result"
    }
   ],
   "source": [
    "df.game_id.nunique()"
   ]
  },
  {
   "cell_type": "code",
   "execution_count": 8,
   "metadata": {},
   "outputs": [
    {
     "name": "stderr",
     "output_type": "stream",
     "text": [
      "100%|██████████| 47701/47701 [01:27<00:00, 545.10it/s]\n"
     ]
    }
   ],
   "source": [
    "map_dict = {}\n",
    "for id,sub_df in tqdm(df.groupby('game_id')):\n",
    "\n",
    "    last_row_df = sub_df.iloc[len(sub_df)-1,:].to_frame().transpose()\n",
    "\n",
    "    if last_row_df.home_score.item() > last_row_df.away_score.item():\n",
    "\n",
    "        map_dict[id] = sub_df.home.unique().item()\n",
    "\n",
    "    else:\n",
    "\n",
    "        map_dict[id] = sub_df.away.unique().item()\n",
    "df['winner'] = df.game_id.map(map_dict)"
   ]
  },
  {
   "cell_type": "code",
   "execution_count": 27,
   "metadata": {},
   "outputs": [
    {
     "data": {
      "text/html": [
       "<div>\n",
       "<style scoped>\n",
       "    .dataframe tbody tr th:only-of-type {\n",
       "        vertical-align: middle;\n",
       "    }\n",
       "\n",
       "    .dataframe tbody tr th {\n",
       "        vertical-align: top;\n",
       "    }\n",
       "\n",
       "    .dataframe thead th {\n",
       "        text-align: right;\n",
       "    }\n",
       "</style>\n",
       "<table border=\"1\" class=\"dataframe\">\n",
       "  <thead>\n",
       "    <tr style=\"text-align: right;\">\n",
       "      <th></th>\n",
       "      <th>play_id</th>\n",
       "      <th>half</th>\n",
       "      <th>time_remaining_half</th>\n",
       "      <th>secs_remaining</th>\n",
       "      <th>secs_remaining_absolute</th>\n",
       "      <th>description</th>\n",
       "      <th>home_score</th>\n",
       "      <th>away_score</th>\n",
       "      <th>score_diff</th>\n",
       "      <th>play_length</th>\n",
       "      <th>win_prob</th>\n",
       "      <th>naive_win_prob</th>\n",
       "      <th>home</th>\n",
       "      <th>away</th>\n",
       "      <th>home_time_out_remaining</th>\n",
       "      <th>away_time_out_remaining</th>\n",
       "      <th>home_favored_by</th>\n",
       "      <th>game_id</th>\n",
       "      <th>date</th>\n",
       "      <th>shot_x</th>\n",
       "      <th>shot_y</th>\n",
       "      <th>shot_team</th>\n",
       "      <th>shot_outcome</th>\n",
       "      <th>shooter</th>\n",
       "      <th>assist</th>\n",
       "      <th>three_pt</th>\n",
       "      <th>free_throw</th>\n",
       "      <th>possession_before</th>\n",
       "      <th>possession_after</th>\n",
       "      <th>winner</th>\n",
       "      <th>quarter</th>\n",
       "    </tr>\n",
       "  </thead>\n",
       "  <tbody>\n",
       "    <tr>\n",
       "      <th>7</th>\n",
       "      <td>8</td>\n",
       "      <td>1</td>\n",
       "      <td>19:08</td>\n",
       "      <td>2348</td>\n",
       "      <td>2348</td>\n",
       "      <td>Foul on LaDontae Henton.</td>\n",
       "      <td>1</td>\n",
       "      <td>0</td>\n",
       "      <td>1</td>\n",
       "      <td>0</td>\n",
       "      <td>0.522613</td>\n",
       "      <td>0.522613</td>\n",
       "      <td>Marquette</td>\n",
       "      <td>Providence</td>\n",
       "      <td>4</td>\n",
       "      <td>4</td>\n",
       "      <td>NaN</td>\n",
       "      <td>400504551</td>\n",
       "      <td>2014-01-30</td>\n",
       "      <td>NaN</td>\n",
       "      <td>NaN</td>\n",
       "      <td>None</td>\n",
       "      <td>None</td>\n",
       "      <td>None</td>\n",
       "      <td>None</td>\n",
       "      <td>None</td>\n",
       "      <td>None</td>\n",
       "      <td>None</td>\n",
       "      <td>None</td>\n",
       "      <td>Marquette</td>\n",
       "      <td>1</td>\n",
       "    </tr>\n",
       "    <tr>\n",
       "      <th>206</th>\n",
       "      <td>207</td>\n",
       "      <td>2</td>\n",
       "      <td>9:08</td>\n",
       "      <td>548</td>\n",
       "      <td>548</td>\n",
       "      <td>Branford Jones missed Layup.</td>\n",
       "      <td>65</td>\n",
       "      <td>59</td>\n",
       "      <td>6</td>\n",
       "      <td>0</td>\n",
       "      <td>0.801281</td>\n",
       "      <td>0.801281</td>\n",
       "      <td>UC Irvine</td>\n",
       "      <td>Long Beach State</td>\n",
       "      <td>6</td>\n",
       "      <td>4</td>\n",
       "      <td>NaN</td>\n",
       "      <td>400595946</td>\n",
       "      <td>2015-01-08</td>\n",
       "      <td>NaN</td>\n",
       "      <td>NaN</td>\n",
       "      <td>None</td>\n",
       "      <td>None</td>\n",
       "      <td>None</td>\n",
       "      <td>None</td>\n",
       "      <td>None</td>\n",
       "      <td>None</td>\n",
       "      <td>None</td>\n",
       "      <td>None</td>\n",
       "      <td>Long Beach State</td>\n",
       "      <td>4</td>\n",
       "    </tr>\n",
       "    <tr>\n",
       "      <th>47</th>\n",
       "      <td>48</td>\n",
       "      <td>1</td>\n",
       "      <td>12:50</td>\n",
       "      <td>1970</td>\n",
       "      <td>1970</td>\n",
       "      <td>Michael Javes Turnover.</td>\n",
       "      <td>20</td>\n",
       "      <td>2</td>\n",
       "      <td>18</td>\n",
       "      <td>16</td>\n",
       "      <td>0.875426</td>\n",
       "      <td>0.875426</td>\n",
       "      <td>Little Rock</td>\n",
       "      <td>St Gregory's</td>\n",
       "      <td>4</td>\n",
       "      <td>4</td>\n",
       "      <td>NaN</td>\n",
       "      <td>323392031</td>\n",
       "      <td>2012-12-04</td>\n",
       "      <td>NaN</td>\n",
       "      <td>NaN</td>\n",
       "      <td>None</td>\n",
       "      <td>None</td>\n",
       "      <td>None</td>\n",
       "      <td>None</td>\n",
       "      <td>None</td>\n",
       "      <td>None</td>\n",
       "      <td>None</td>\n",
       "      <td>None</td>\n",
       "      <td>Little Rock</td>\n",
       "      <td>1</td>\n",
       "    </tr>\n",
       "  </tbody>\n",
       "</table>\n",
       "</div>"
      ],
      "text/plain": [
       "     play_id  half time_remaining_half  secs_remaining  \\\n",
       "7          8     1               19:08            2348   \n",
       "206      207     2                9:08             548   \n",
       "47        48     1               12:50            1970   \n",
       "\n",
       "     secs_remaining_absolute                   description  home_score  \\\n",
       "7                       2348      Foul on LaDontae Henton.           1   \n",
       "206                      548  Branford Jones missed Layup.          65   \n",
       "47                      1970       Michael Javes Turnover.          20   \n",
       "\n",
       "     away_score  score_diff  play_length  win_prob  naive_win_prob  \\\n",
       "7             0           1            0  0.522613        0.522613   \n",
       "206          59           6            0  0.801281        0.801281   \n",
       "47            2          18           16  0.875426        0.875426   \n",
       "\n",
       "            home              away  home_time_out_remaining  \\\n",
       "7      Marquette        Providence                        4   \n",
       "206    UC Irvine  Long Beach State                        6   \n",
       "47   Little Rock      St Gregory's                        4   \n",
       "\n",
       "     away_time_out_remaining  home_favored_by    game_id        date  shot_x  \\\n",
       "7                          4              NaN  400504551  2014-01-30     NaN   \n",
       "206                        4              NaN  400595946  2015-01-08     NaN   \n",
       "47                         4              NaN  323392031  2012-12-04     NaN   \n",
       "\n",
       "     shot_y shot_team shot_outcome shooter assist three_pt free_throw  \\\n",
       "7       NaN      None         None    None   None     None       None   \n",
       "206     NaN      None         None    None   None     None       None   \n",
       "47      NaN      None         None    None   None     None       None   \n",
       "\n",
       "    possession_before possession_after            winner  quarter  \n",
       "7                None             None         Marquette        1  \n",
       "206              None             None  Long Beach State        4  \n",
       "47               None             None       Little Rock        1  "
      ]
     },
     "execution_count": 27,
     "metadata": {},
     "output_type": "execute_result"
    }
   ],
   "source": [
    "def assign_quarters(x):\n",
    "\n",
    "    if x <= 2400 and x > 1800 :\n",
    "        return 1\n",
    "    if x <= 1800 and x > 1200:\n",
    "        return 2\n",
    "    if x <= 1200 and x > 600:\n",
    "        return 3\n",
    "    return 4\n",
    "\n",
    "df['quarter'] = df.secs_remaining_absolute.map(assign_quarters)\n",
    "df.sample(3)"
   ]
  },
  {
   "cell_type": "code",
   "execution_count": 29,
   "metadata": {},
   "outputs": [],
   "source": [
    "from pprint import pprint"
   ]
  },
  {
   "cell_type": "code",
   "execution_count": 37,
   "metadata": {},
   "outputs": [
    {
     "data": {
      "text/plain": [
       "{'game_id': [400918880, 400918880, 400918880, 400918880],\n",
       " 'home_team': ['Cal Poly', 'Cal Poly', 'Cal Poly', 'Cal Poly'],\n",
       " 'away_team': ['UC Davis', 'UC Davis', 'UC Davis', 'UC Davis'],\n",
       " 'quarter_1_win': [1],\n",
       " 'quarter_2_win': [1],\n",
       " 'quarter_3_win': [1],\n",
       " 'quarter_4_win': [1],\n",
       " 'quarter_differential': [],\n",
       " 'game_win': [1, 1, 1, 1]}"
      ]
     },
     "execution_count": 37,
     "metadata": {},
     "output_type": "execute_result"
    }
   ],
   "source": [
    "master_dict = {key:[] for key in ('game_id','home_team','away_team','quarter_1_win','quarter_2_win','quarter_3_win','quarter_4_win',\n",
    "                                  'quarter_differential','game_win')}\n",
    "test = df[df.game_id == 400918880].copy()\n",
    "\n",
    "for quarter,sub_df in test.groupby('quarter'):\n",
    "    target_dict = sub_df.iloc[len(sub_df)-1,:].to_dict()\n",
    "    \n",
    "    # From the perspective of the home team\n",
    "    if target_dict['score_diff'] == 0:\n",
    "        master_dict[f\"quarter_{quarter}_win\"] = np.nan\n",
    "\n",
    "    elif target_dict['score_diff'] > 0:\n",
    "        master_dict[f\"quarter_{quarter}_win\"].append(1)\n",
    "    \n",
    "    else:\n",
    "        master_dict[f\"quarter_{quarter}_win\"].append(0)\n",
    "    \n",
    "    if target_dict['winner'] == target_dict['home']:\n",
    "        master_dict['game_win'].append(1)\n",
    "    else:\n",
    "        master_dict['game_win'].append(0)\n",
    "    \n",
    "    master_dict['game_id'].append(target_dict['game_id'])\n",
    "    master_dict['home_team'].append(target_dict['home'])\n",
    "    master_dict['away_team'].append(target_dict['away'])\n",
    "master_dict"
   ]
  }
 ],
 "metadata": {
  "kernelspec": {
   "display_name": "base",
   "language": "python",
   "name": "python3"
  },
  "language_info": {
   "codemirror_mode": {
    "name": "ipython",
    "version": 3
   },
   "file_extension": ".py",
   "mimetype": "text/x-python",
   "name": "python",
   "nbconvert_exporter": "python",
   "pygments_lexer": "ipython3",
   "version": "3.9.7"
  },
  "orig_nbformat": 4,
  "vscode": {
   "interpreter": {
    "hash": "df36b4008477cbb48374c583daaf8481895fa41f466162227fbed12f9b409580"
   }
  }
 },
 "nbformat": 4,
 "nbformat_minor": 2
}
