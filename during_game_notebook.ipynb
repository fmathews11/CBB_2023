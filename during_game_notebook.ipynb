{
 "cells": [
  {
   "cell_type": "code",
   "execution_count": null,
   "metadata": {},
   "outputs": [],
   "source": [
    "import pandas as pd,seaborn as sns,matplotlib.pyplot as plt\n",
    "import numpy as np\n",
    "from pprint import pprint\n",
    "import json\n",
    "import requests\n",
    "from bs4 import BeautifulSoup\n",
    "from modules.functions import get_schedule,create_home_and_away_simple_dataframe,plot_game_trends\n",
    "from modules.functions import calculate_possessions,get_agg_boxscore,get_game_timestamp_half\n",
    "from IPython.display import clear_output\n",
    "import time"
   ]
  },
  {
   "cell_type": "code",
   "execution_count": null,
   "metadata": {},
   "outputs": [],
   "source": [
    "get_schedule(\"Purdue\")"
   ]
  },
  {
   "cell_type": "code",
   "execution_count": null,
   "metadata": {},
   "outputs": [],
   "source": [
    "game_id = 401484843\n",
    "\n",
    "n_tries = 0\n",
    "\n",
    "try:\n",
    "    test_df\n",
    "except NameError as e:\n",
    "    test_df = pd.DataFrame()\n",
    "\n",
    "last_reported_time = None\n",
    "\n",
    "while n_tries < 10:\n",
    "\n",
    "    \n",
    "    timestamp,half = get_game_timestamp_half(game_id)\n",
    "\n",
    "    if timestamp != last_reported_time:\n",
    "        last_reported_time = timestamp\n",
    "        n_tries = 0\n",
    "        clear_output()\n",
    "        last_reported_time = timestamp\n",
    "        temp_df = get_agg_boxscore(game_id = game_id,disp = True)\n",
    "        temp_df = temp_df.transpose().rename_axis(\"Team\").reset_index()\n",
    "        temp_df['Half'] = half\n",
    "        temp_df['Timestamp'] = timestamp\n",
    "        test_df = pd.concat([test_df,temp_df])\n",
    "        create_home_and_away_simple_dataframe(game_id,disp = True)\n",
    "        time.sleep(np.random.randint(12,17))\n",
    "    else:\n",
    "        time.sleep(25)\n",
    "        n_tries +=1"
   ]
  },
  {
   "cell_type": "code",
   "execution_count": null,
   "metadata": {},
   "outputs": [],
   "source": [
    "def plot_game_trends(test_df,half = 1,color1 = 'black',color2 = 'blue'):\n",
    "  melted = test_df.reset_index()\n",
    "  #melted = test_df.copy()\n",
    "  for i in melted.columns.tolist()[1:18]:\n",
    "    plt.figure(figsize = (14,8))\n",
    "    sns.lineplot(data = melted[melted.Half ==half].iloc[1:,:],\n",
    "                x = 'Timestamp',\n",
    "                y = i,\n",
    "                hue = 'Team',\n",
    "                palette = [color2,color1])\n",
    "    plt.title(f\"{melted.Team.tolist()[0]} vs {melted.Team.tolist()[1]}: {i.replace('_',' ')}\")\n",
    "    plt.ylabel(i.replace('_',' '))\n",
    "    plt.xlabel('Time Remaining, 2nd Half')\n",
    "    if half == 1:\n",
    "      plt.xlabel('Time Remaining, 1st Half')\n",
    "    plt.show();"
   ]
  },
  {
   "cell_type": "code",
   "execution_count": null,
   "metadata": {},
   "outputs": [],
   "source": [
    "plot_game_trends(test_df,half = half,color1='red',color2='black')"
   ]
  }
 ],
 "metadata": {
  "kernelspec": {
   "display_name": "Python 3.9.13 ('sports')",
   "language": "python",
   "name": "python3"
  },
  "language_info": {
   "codemirror_mode": {
    "name": "ipython",
    "version": 3
   },
   "file_extension": ".py",
   "mimetype": "text/x-python",
   "name": "python",
   "nbconvert_exporter": "python",
   "pygments_lexer": "ipython3",
   "version": "3.9.13"
  },
  "orig_nbformat": 4,
  "vscode": {
   "interpreter": {
    "hash": "ae0dda884c70e1560e93956e8eebd4c83c1ef9439f019fa77ba6b5d019159887"
   }
  }
 },
 "nbformat": 4,
 "nbformat_minor": 2
}
