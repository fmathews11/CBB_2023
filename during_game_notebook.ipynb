{
 "cells": [
  {
   "cell_type": "code",
   "execution_count": 1,
   "metadata": {},
   "outputs": [],
   "source": [
    "import pandas as pd,seaborn as sns,matplotlib.pyplot as plt\n",
    "import numpy as np\n",
    "from pprint import pprint\n",
    "import json\n",
    "import requests\n",
    "from bs4 import BeautifulSoup"
   ]
  },
  {
   "cell_type": "code",
   "execution_count": 2,
   "metadata": {},
   "outputs": [],
   "source": [
    "ids = pd.read_csv('csvs/ids.csv')"
   ]
  },
  {
   "cell_type": "code",
   "execution_count": 3,
   "metadata": {},
   "outputs": [
    {
     "name": "stdout",
     "output_type": "stream",
     "text": [
      "Status Code: 200\n"
     ]
    }
   ],
   "source": [
    "game_id = (401483406)\n",
    "url = 'https://www.espn.com/mens-college-basketball/boxscore/_/gameId/'+str(game_id)\n",
    "r = requests.get(url)\n",
    "print(f\"Status Code: {r.status_code}\")\n",
    "soup = BeautifulSoup(r.content,'lxml')"
   ]
  },
  {
   "cell_type": "code",
   "execution_count": 4,
   "metadata": {},
   "outputs": [
    {
     "name": "stdout",
     "output_type": "stream",
     "text": [
      "Away Team: Austin Peay\n",
      "Home Team: Purdue\n",
      "Game Date: November 11, 2022\n"
     ]
    }
   ],
   "source": [
    "#Isolate the home team, away team, and game date.  Away team is always first\n",
    "away_team,home_team = [team.strip().title() for team in [i for i in str(soup.find('title')).split('-') if \" vs. \" in i][0].replace('helmet=\"true\">',\"\").split(\" vs.\")]\n",
    "game_date = str(soup.find(\"title\")).split(\"-\")[-1].split(\"|\")[0].strip()\n",
    "print(f\"Away Team: {away_team}\")\n",
    "print(f\"Home Team: {home_team}\")\n",
    "print(f\"Game Date: {game_date}\")"
   ]
  },
  {
   "cell_type": "code",
   "execution_count": 5,
   "metadata": {},
   "outputs": [],
   "source": [
    "#Infer tables with Pandas\n",
    "dfs = pd.read_html(url)\n",
    "#Away team is always index value 1, home team is 2\n",
    "away_team_df = dfs[1]\n",
    "home_team_df = dfs[2]\n",
    "# Convert columns from tuples to strings\n",
    "if type(away_team_df.columns[0]) is tuple:\n",
    "  away_team_df.columns = [i[0] for i in away_team_df.columns.tolist()]\n",
    "if type(home_team_df.columns[0]) is tuple:\n",
    "  home_team_df.columns = [i[0] for i in home_team_df.columns.tolist()]"
   ]
  },
  {
   "cell_type": "code",
   "execution_count": 25,
   "metadata": {},
   "outputs": [],
   "source": [
    "# Pandas pulls in a lot of dataframes\n",
    "# Filterint to only retrieve the entries we're interested in\n",
    "away_players,away_stats,home_players,home_stats = dfs[1:5]\n",
    "# Renaming the column in the home and away players dataframe to \"player\"\n",
    "away_players.columns,home_players.columns = ['Player'],['Player']\n",
    "\n",
    "# Remove entries we don't need\n",
    "away_players = away_players.iloc[1:len(away_players)-1,]\n",
    "away_players = away_players.loc[away_players.Player != \"bench\"]\n",
    "\n",
    "# Remove entries we don't need\n",
    "home_players = home_players.iloc[1:len(home_players)-1,]\n",
    "home_players = home_players.loc[home_players.Player != \"bench\"]\n",
    "# Grabbing the last letter from the player column and isolating it into it's own column\n",
    "# This becomes the position (G,F,C)\n",
    "home_players['Position'] = [i[-1] for i in home_players.Player]\n",
    "away_players['Position'] = [i[-1] for i in away_players.Player]\n",
    "home_players['Player'] = [i[:-2].strip() for i in home_players.Player]\n",
    "away_players['Player'] = [i[:-2].strip() for i in away_players.Player]\n",
    "\n",
    "# Pandas doesn't recognize the first row as a header, so I'm manually assigning it to the stats dataframes\n",
    "away_stats.columns = away_stats.iloc[0,:].tolist()\n",
    "home_stats.columns = home_stats.iloc[0,:].tolist()\n",
    "\n",
    "# Removing column break headers\n",
    "home_stats = home_stats.loc[home_stats.MIN != \"MIN\"]\n",
    "away_stats = away_stats.loc[away_stats.MIN != \"MIN\"]\n",
    "\n",
    "# Removing the last row as it's all null values\n",
    "home_stats = home_stats.iloc[:len(home_stats)-1,]\n",
    "away_stats = away_stats.iloc[:len(away_stats)-1,]\n",
    "\n",
    "# Manually creating a new row\n",
    "# Assigning 'team' to the player and \"\" to the position.  This is where the aggregates will live\n",
    "home_players.loc[len(home_players)+1,'Player'] = \"Team\"\n",
    "home_players.loc[len(home_players)+1,'Position'] = \"\"\n",
    "\n",
    "away_players.loc[len(away_players)+1,'Player'] = \"Team\"\n",
    "away_players.loc[len(away_players)+1,'Position'] = \"\""
   ]
  }
 ],
 "metadata": {
  "kernelspec": {
   "display_name": "Python 3.9.12 ('base')",
   "language": "python",
   "name": "python3"
  },
  "language_info": {
   "codemirror_mode": {
    "name": "ipython",
    "version": 3
   },
   "file_extension": ".py",
   "mimetype": "text/x-python",
   "name": "python",
   "nbconvert_exporter": "python",
   "pygments_lexer": "ipython3",
   "version": "3.9.12"
  },
  "orig_nbformat": 4,
  "vscode": {
   "interpreter": {
    "hash": "788e49aa3fe5dd1af6a68397f1749d9e903e8595b7673a0aae7419ea668aa0b7"
   }
  }
 },
 "nbformat": 4,
 "nbformat_minor": 2
}
