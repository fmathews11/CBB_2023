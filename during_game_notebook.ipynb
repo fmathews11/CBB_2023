{
 "cells": [
  {
   "cell_type": "code",
   "execution_count": null,
   "metadata": {},
   "outputs": [],
   "source": [
    "import pandas as pd\n",
    "pd.options.display.max_rows = None\n",
    "import numpy as np\n",
    "from modules.functions import create_home_and_away_simple_dataframe,plot_game_trends\n",
    "from modules.functions import get_agg_boxscore,get_game_timestamp_half, add_pie_to_dataframe,get_schedule\n",
    "from IPython.display import clear_output\n",
    "import time"
   ]
  },
  {
   "cell_type": "code",
   "execution_count": null,
   "metadata": {},
   "outputs": [],
   "source": [
    "get_schedule(\"Purdue\")"
   ]
  },
  {
   "cell_type": "code",
   "execution_count": null,
   "metadata": {},
   "outputs": [],
   "source": [
    "game_id = 401589296\n",
    "\n",
    "n_tries = 0\n",
    "\n",
    "try:\n",
    "    test_df\n",
    "except NameError as e:\n",
    "    test_df = pd.DataFrame()\n",
    "\n",
    "last_reported_time = None\n",
    "\n",
    "while n_tries < 10:\n",
    "\n",
    "    \n",
    "    timestamp,half = get_game_timestamp_half(game_id)\n",
    "\n",
    "    if timestamp != last_reported_time:\n",
    "        n_tries = 0\n",
    "        clear_output()\n",
    "        last_reported_time = timestamp\n",
    "        temp_df = get_agg_boxscore(game_id = game_id,disp = True)\n",
    "        temp_df = temp_df.transpose().rename_axis(\"Team\").reset_index()\n",
    "        temp_df['Half'] = half\n",
    "        temp_df['Timestamp'] = timestamp\n",
    "        test_df = pd.concat([test_df,temp_df])\n",
    "        create_home_and_away_simple_dataframe(game_id,disp = True)\n",
    "        time.sleep(np.random.randint(12,17))\n",
    "    else:\n",
    "        time.sleep(25)\n",
    "        n_tries +=1"
   ]
  },
  {
   "cell_type": "code",
   "execution_count": null,
   "metadata": {},
   "outputs": [],
   "source": [
    "plot_game_trends(test_df,half = half,color1='black',color2='green')"
   ]
  },
  {
   "cell_type": "code",
   "execution_count": null,
   "metadata": {},
   "outputs": [],
   "source": [
    "df1,df2 = create_home_and_away_simple_dataframe(game_id)\n",
    "display(add_pie_to_dataframe(df1))\n",
    "display(add_pie_to_dataframe(df2))"
   ]
  }
 ],
 "metadata": {
  "kernelspec": {
   "display_name": "base",
   "language": "python",
   "name": "python3"
  },
  "language_info": {
   "codemirror_mode": {
    "name": "ipython",
    "version": 3
   },
   "file_extension": ".py",
   "mimetype": "text/x-python",
   "name": "python",
   "nbconvert_exporter": "python",
   "pygments_lexer": "ipython3",
   "version": "3.9.12"
  },
  "orig_nbformat": 4,
  "vscode": {
   "interpreter": {
    "hash": "788e49aa3fe5dd1af6a68397f1749d9e903e8595b7673a0aae7419ea668aa0b7"
   }
  }
 },
 "nbformat": 4,
 "nbformat_minor": 2
}
